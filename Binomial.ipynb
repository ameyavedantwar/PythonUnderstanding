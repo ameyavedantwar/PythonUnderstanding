{
 "cells": [
  {
   "cell_type": "code",
   "execution_count": 2,
   "id": "74739887",
   "metadata": {},
   "outputs": [
    {
     "name": "stdout",
     "output_type": "stream",
     "text": [
      "Pass the value of N = 10000\n",
      "Pass the value of n = 50\n"
     ]
    },
    {
     "data": {
      "image/png": "[encoded data removed]",
      "text/plain": [
       "<Figure size 432x288 with 1 Axes>"
      ]
     },
     "metadata": {
      "needs_background": "light"
     },
     "output_type": "display_data"
    }
   ],
   "source": [
    "import random\n",
    "import matplotlib.pyplot as plt\n",
    "\n",
    "#defining a random list where B = Black Ball and r = Red Ball\n",
    "b = [\"R\",\"B\",\"B\",\"B\",\"B\",\"R\",\"B\",\"R\",\"B\",\"B\"]\n",
    "\n",
    "#drawing the ball and randomising the list everytime because the\n",
    "#balls inside a bag will not be in same order as the above list is\n",
    "def n(repeat):\n",
    "    c = 0\n",
    "    for i in range(0,repeat):\n",
    "        draw = random.randint(0, 9)\n",
    "        if(b[draw] == \"B\"):\n",
    "            c+=1\n",
    "            random.shuffle(b)\n",
    "    return(c)\n",
    "#N defines the number of times it needs to be repeated \n",
    "def N(x,y):\n",
    "    a = []\n",
    "    for i in range(x):\n",
    "        a.append(n(y))\n",
    "        plt.hist(a)\n",
    "    \n",
    "#defining main \n",
    "def main():\n",
    "    x = int(input(\"Pass the value of N = \"))\n",
    "    y = int(input(\"Pass the value of n = \"))\n",
    "    N(x,y)\n",
    "if __name__ == \"__main__\":\n",
    "    main()\n",
    "\n"
   ]
  },
  {
   "cell_type": "code",
   "execution_count": null,
   "id": "e2ae3a19",
   "metadata": {},
   "outputs": [],
   "source": []
  }
 ],
 "metadata": {
  "kernelspec": {
   "display_name": "Python 3 (ipykernel)",
   "language": "python",
   "name": "python3"
  },
  "language_info": {
   "codemirror_mode": {
    "name": "ipython",
    "version": 3
   },
   "file_extension": ".py",
   "mimetype": "text/x-python",
   "name": "python",
   "nbconvert_exporter": "python",
   "pygments_lexer": "ipython3",
   "version": "3.9.7"
  }
 },
 "nbformat": 4,
 "nbformat_minor": 5
}
