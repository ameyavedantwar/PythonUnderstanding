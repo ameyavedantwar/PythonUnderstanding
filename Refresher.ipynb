{
 "cells": [
  {
   "cell_type": "code",
   "execution_count": 16,
   "id": "5e1bf275",
   "metadata": {},
   "outputs": [
    {
     "name": "stdout",
     "output_type": "stream",
     "text": [
      "Hello, World!\n"
     ]
    }
   ],
   "source": [
    "print(\"Hello, World!\")"
   ]
  },
  {
   "cell_type": "code",
   "execution_count": 18,
   "id": "2e24b9f3",
   "metadata": {},
   "outputs": [
    {
     "name": "stdout",
     "output_type": "stream",
     "text": [
      "Name: Ameya\n",
      "Age: 27\n"
     ]
    }
   ],
   "source": [
    "print(\"Name: Ameya\" \"\\n\" \"Age: 27\")"
   ]
  },
  {
   "cell_type": "code",
   "execution_count": 19,
   "id": "efbc5ba4",
   "metadata": {},
   "outputs": [
    {
     "name": "stdout",
     "output_type": "stream",
     "text": [
      "['False', 'None', 'True', '__peg_parser__', 'and', 'as', 'assert', 'async', 'await', 'break', 'class', 'continue', 'def', 'del', 'elif', 'else', 'except', 'finally', 'for', 'from', 'global', 'if', 'import', 'in', 'is', 'lambda', 'nonlocal', 'not', 'or', 'pass', 'raise', 'return', 'try', 'while', 'with', 'yield']\n"
     ]
    }
   ],
   "source": [
    "import keyword\n",
    "print(keyword.kwlist)"
   ]
  },
  {
   "cell_type": "code",
   "execution_count": 20,
   "id": "f80ee7f9",
   "metadata": {},
   "outputs": [
    {
     "name": "stdout",
     "output_type": "stream",
     "text": [
      "Enter a word to check if it is a Python keyword: def\n",
      "'def' is a Python keyword.\n"
     ]
    }
   ],
   "source": [
    "import keyword\n",
    "\n",
    "def check_if_keyword(word):\n",
    "    if keyword.iskeyword(word):\n",
    "        return f\"'{word}' is a Python keyword.\"\n",
    "    else:\n",
    "        return f\"'{word}' is not a Python keyword.\"\n",
    "\n",
    "word = input(\"Enter a word to check if it is a Python keyword: \")\n",
    "result = check_if_keyword(word)\n",
    "print(result)\n"
   ]
  },
  {
   "cell_type": "code",
   "execution_count": 22,
   "id": "cc4efeeb",
   "metadata": {},
   "outputs": [
    {
     "name": "stdout",
     "output_type": "stream",
     "text": [
      "[10, 2, 3]\n"
     ]
    },
    {
     "ename": "TypeError",
     "evalue": "'tuple' object does not support item assignment",
     "output_type": "error",
     "traceback": [
      "\u001b[1;31m---------------------------------------------------------------------------\u001b[0m",
      "\u001b[1;31mTypeError\u001b[0m                                 Traceback (most recent call last)",
      "Input \u001b[1;32mIn [22]\u001b[0m, in \u001b[0;36m<cell line: 8>\u001b[1;34m()\u001b[0m\n\u001b[0;32m      5\u001b[0m my_list[\u001b[38;5;241m0\u001b[39m] \u001b[38;5;241m=\u001b[39m \u001b[38;5;241m10\u001b[39m\n\u001b[0;32m      6\u001b[0m \u001b[38;5;28mprint\u001b[39m(my_list)\n\u001b[1;32m----> 8\u001b[0m my_tuple[\u001b[38;5;241m0\u001b[39m] \u001b[38;5;241m=\u001b[39m \u001b[38;5;241m10\u001b[39m\n\u001b[0;32m      9\u001b[0m \u001b[38;5;28mprint\u001b[39m(my_tuple)\n",
      "\u001b[1;31mTypeError\u001b[0m: 'tuple' object does not support item assignment"
     ]
    }
   ],
   "source": [
    "\n",
    "my_list = [1, 2, 3]\n",
    "my_tuple = (1, 2, 3)\n",
    "\n",
    "my_list[0] = 10\n",
    "print(my_list)\n",
    "\n",
    "my_tuple[0] = 10\n",
    "print(my_tuple)\n"
   ]
  },
  {
   "cell_type": "code",
   "execution_count": 24,
   "id": "321e8d53",
   "metadata": {},
   "outputs": [
    {
     "name": "stdout",
     "output_type": "stream",
     "text": [
      "Before modification:\n",
      "Immutable value: Hello\n",
      "Mutable list: [1, 2, 3]\n",
      "\n",
      "After modification inside the function:\n",
      "Immutable value: Hello World\n",
      "Mutable list: [1, 2, 3, 4]\n"
     ]
    }
   ],
   "source": [
    "immutable_value = \"Hello\"\n",
    "mutable_list = [1, 2, 3]\n",
    "print(\"Before modification:\")\n",
    "print(\"Immutable value:\", immutable_value)\n",
    "print(\"Mutable list:\", mutable_list)\n",
    "mutable_list.append(4)\n",
    "immutable_value = immutable_value + \" World\"\n",
    "print(\"\\nAfter modification inside the function:\")\n",
    "print(\"Immutable value:\", immutable_value)\n",
    "print(\"Mutable list:\", mutable_list)"
   ]
  },
  {
   "cell_type": "code",
   "execution_count": 26,
   "id": "c84efe54",
   "metadata": {},
   "outputs": [
    {
     "name": "stdout",
     "output_type": "stream",
     "text": [
      "Enter first number: 798798679697608608606\n",
      "Enter second number: 0708986976971231231231312312\n",
      "708987775769910928839920918\n"
     ]
    }
   ],
   "source": [
    "a = int(input(\"Enter first number: \"))\n",
    "b = int(input(\"Enter second number: \"))\n",
    "c = a+b\n",
    "print(c)"
   ]
  },
  {
   "cell_type": "code",
   "execution_count": 27,
   "id": "0d4ea42b",
   "metadata": {},
   "outputs": [
    {
     "name": "stdout",
     "output_type": "stream",
     "text": [
      "False\n"
     ]
    }
   ],
   "source": [
    "a = 1\n",
    "b = 2\n",
    "c = 1\n",
    "\n",
    "print(a == b)"
   ]
  },
  {
   "cell_type": "code",
   "execution_count": 29,
   "id": "6e8196df",
   "metadata": {},
   "outputs": [
    {
     "name": "stdout",
     "output_type": "stream",
     "text": [
      "False\n",
      "True\n",
      "True\n",
      "True\n",
      "True\n"
     ]
    }
   ],
   "source": [
    "a = True\n",
    "b = False\n",
    "x = 10\n",
    "y = 5\n",
    "print(a and b)\n",
    "print(a or b)\n",
    "print(not b)\n",
    "print(x > 5 and y < 10)\n",
    "print(x == 10 or y == 10)"
   ]
  },
  {
   "cell_type": "code",
   "execution_count": 32,
   "id": "926572ef",
   "metadata": {},
   "outputs": [
    {
     "name": "stdout",
     "output_type": "stream",
     "text": [
      "Pass a string: 8947984\n",
      "<class 'int'>\n",
      "Pass a string: 4654.8854\n",
      "<class 'float'>\n",
      "Pass a string: True\n",
      "True\n"
     ]
    }
   ],
   "source": [
    "a = input(\"Pass a string: \")\n",
    "a = int(a)\n",
    "print(type(a))\n",
    "\n",
    "a = input(\"Pass a string: \")\n",
    "a = float(a)\n",
    "print(type(a))\n",
    "\n",
    "a = input(\"Pass a string: \")\n",
    "print(bool(a))\n"
   ]
  },
  {
   "cell_type": "code",
   "execution_count": 35,
   "id": "44c8e2f2",
   "metadata": {},
   "outputs": [
    {
     "name": "stdout",
     "output_type": "stream",
     "text": [
      "Original list: ['1', '2', '3', '4']\n",
      "Typecasting from string to integer: [1, 2, 3, 4]\n",
      "Typecasting from integer to float: [1.0, 2.0, 3.0, 4.0]\n",
      "Typecasting from float to string: ['1.0', '2.0', '3.0', '4.0']\n"
     ]
    }
   ],
   "source": [
    "my_list = [\"1\", \"2\", \"3\", \"4\"]\n",
    "int_list = []\n",
    "for item in my_list:\n",
    "    int_list.append(int(item))\n",
    "\n",
    "print(\"Original list:\", my_list)\n",
    "print(\"Typecasting from string to integer:\", int_list)\n",
    "\n",
    "float_list = []\n",
    "for item in int_list:\n",
    "    float_list.append(float(item))\n",
    "\n",
    "print(\"Typecasting from integer to float:\", float_list)\n",
    "\n",
    "str_list = []\n",
    "for item in float_list:\n",
    "    str_list.append(str(item))\n",
    "\n",
    "print(\"Typecasting from float to string:\", str_list)\n"
   ]
  },
  {
   "cell_type": "code",
   "execution_count": 37,
   "id": "f90347b8",
   "metadata": {},
   "outputs": [
    {
     "name": "stdout",
     "output_type": "stream",
     "text": [
      "Enter number-949494\n",
      "negaitive\n"
     ]
    }
   ],
   "source": [
    "num = int(input(\"Enter number\"))\n",
    "if (num>0): \n",
    "    print(\"positive\")\n",
    "if(num<0):\n",
    "    print(\"negaitive\")\n",
    "if(num==0):\n",
    "    print(num)"
   ]
  },
  {
   "cell_type": "code",
   "execution_count": 38,
   "id": "5d5f1c8d",
   "metadata": {},
   "outputs": [
    {
     "name": "stdout",
     "output_type": "stream",
     "text": [
      "1\n",
      "2\n",
      "3\n",
      "4\n",
      "5\n",
      "6\n",
      "7\n",
      "8\n",
      "9\n",
      "10\n"
     ]
    }
   ],
   "source": [
    "for i in range (1,11):\n",
    "    print(i)"
   ]
  },
  {
   "cell_type": "code",
   "execution_count": 41,
   "id": "e90085ab",
   "metadata": {},
   "outputs": [
    {
     "name": "stdout",
     "output_type": "stream",
     "text": [
      "650\n"
     ]
    }
   ],
   "source": [
    "a=0\n",
    "for i in range (1,51):\n",
    "    if(i%2==0):\n",
    "        a = a+i\n",
    "        \n",
    "print(a)"
   ]
  },
  {
   "cell_type": "code",
   "execution_count": 44,
   "id": "5a8ccfcd",
   "metadata": {},
   "outputs": [
    {
     "name": "stdout",
     "output_type": "stream",
     "text": [
      "olleH\n"
     ]
    }
   ],
   "source": [
    "in_string = \"Hello\"\n",
    "rev_string = \"\"\n",
    "index = len(in_string) - 1\n",
    "\n",
    "while index >= 0:\n",
    "    rev_string += in_string[index]\n",
    "    index -= 1\n",
    "\n",
    "print(rev_string)\n"
   ]
  },
  {
   "cell_type": "code",
   "execution_count": 49,
   "id": "6f11f2ca",
   "metadata": {},
   "outputs": [
    {
     "name": "stdout",
     "output_type": "stream",
     "text": [
      "Enter a number: 6\n",
      "Factorial: 720\n"
     ]
    }
   ],
   "source": [
    "num = int(input(\"Enter a number: \"))\n",
    "fact = 1\n",
    "\n",
    "while num > 1:\n",
    "    fact *= num\n",
    "    num -= 1\n",
    "\n",
    "print(\"Factorial:\", fact)\n"
   ]
  },
  {
   "cell_type": "code",
   "execution_count": null,
   "id": "e77a5f1f",
   "metadata": {},
   "outputs": [],
   "source": []
  },
  {
   "cell_type": "code",
   "execution_count": null,
   "id": "31e04ec1",
   "metadata": {},
   "outputs": [],
   "source": []
  }
 ],
 "metadata": {
  "kernelspec": {
   "display_name": "Python 3 (ipykernel)",
   "language": "python",
   "name": "python3"
  },
  "language_info": {
   "codemirror_mode": {
    "name": "ipython",
    "version": 3
   },
   "file_extension": ".py",
   "mimetype": "text/x-python",
   "name": "python",
   "nbconvert_exporter": "python",
   "pygments_lexer": "ipython3",
   "version": "3.9.12"
  }
 },
 "nbformat": 4,
 "nbformat_minor": 5
}
